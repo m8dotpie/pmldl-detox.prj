{
 "cells": [
  {
   "cell_type": "code",
   "execution_count": 1,
   "metadata": {},
   "outputs": [],
   "source": [
    "from dotenv import find_dotenv\n",
    "import os\n",
    "import sys\n",
    "\n",
    "sys.path.append(os.path.dirname(find_dotenv()))"
   ]
  },
  {
   "cell_type": "code",
   "execution_count": 2,
   "metadata": {},
   "outputs": [],
   "source": [
    "import src.models.baseline_model as baseline\n",
    "import src.data.preprocess_dataset as preprocess\n",
    "import src.data.metrics as metrics"
   ]
  },
  {
   "cell_type": "code",
   "execution_count": 3,
   "metadata": {},
   "outputs": [],
   "source": [
    "import pandas as pd"
   ]
  },
  {
   "cell_type": "code",
   "execution_count": 4,
   "metadata": {},
   "outputs": [
    {
     "data": {
      "text/html": [
       "<div>\n",
       "<style scoped>\n",
       "    .dataframe tbody tr th:only-of-type {\n",
       "        vertical-align: middle;\n",
       "    }\n",
       "\n",
       "    .dataframe tbody tr th {\n",
       "        vertical-align: top;\n",
       "    }\n",
       "\n",
       "    .dataframe thead th {\n",
       "        text-align: right;\n",
       "    }\n",
       "</style>\n",
       "<table border=\"1\" class=\"dataframe\">\n",
       "  <thead>\n",
       "    <tr style=\"text-align: right;\">\n",
       "      <th></th>\n",
       "      <th>reference</th>\n",
       "      <th>translation</th>\n",
       "      <th>similarity</th>\n",
       "      <th>lenght_diff</th>\n",
       "      <th>ref_tox</th>\n",
       "      <th>trn_tox</th>\n",
       "    </tr>\n",
       "  </thead>\n",
       "  <tbody>\n",
       "    <tr>\n",
       "      <th>0</th>\n",
       "      <td>If Alkar is flooding her with psychic waste, t...</td>\n",
       "      <td>if Alkar floods her with her mental waste, it ...</td>\n",
       "      <td>0.785171</td>\n",
       "      <td>0.010309</td>\n",
       "      <td>0.014195</td>\n",
       "      <td>0.981983</td>\n",
       "    </tr>\n",
       "    <tr>\n",
       "      <th>1</th>\n",
       "      <td>Now you're getting nasty.</td>\n",
       "      <td>you're becoming disgusting.</td>\n",
       "      <td>0.749687</td>\n",
       "      <td>0.071429</td>\n",
       "      <td>0.065473</td>\n",
       "      <td>0.999039</td>\n",
       "    </tr>\n",
       "    <tr>\n",
       "      <th>2</th>\n",
       "      <td>Well, we could spare your life, for one.</td>\n",
       "      <td>well, we can spare your life.</td>\n",
       "      <td>0.919051</td>\n",
       "      <td>0.268293</td>\n",
       "      <td>0.213313</td>\n",
       "      <td>0.985068</td>\n",
       "    </tr>\n",
       "    <tr>\n",
       "      <th>3</th>\n",
       "      <td>Ah! Monkey, you've got to snap out of it.</td>\n",
       "      <td>monkey, you have to wake up.</td>\n",
       "      <td>0.664333</td>\n",
       "      <td>0.309524</td>\n",
       "      <td>0.053362</td>\n",
       "      <td>0.994215</td>\n",
       "    </tr>\n",
       "    <tr>\n",
       "      <th>4</th>\n",
       "      <td>I've got orders to put her down.</td>\n",
       "      <td>I have orders to kill her.</td>\n",
       "      <td>0.726639</td>\n",
       "      <td>0.181818</td>\n",
       "      <td>0.009402</td>\n",
       "      <td>0.999348</td>\n",
       "    </tr>\n",
       "  </tbody>\n",
       "</table>\n",
       "</div>"
      ],
      "text/plain": [
       "                                           reference  \\\n",
       "0  If Alkar is flooding her with psychic waste, t...   \n",
       "1                          Now you're getting nasty.   \n",
       "2           Well, we could spare your life, for one.   \n",
       "3          Ah! Monkey, you've got to snap out of it.   \n",
       "4                   I've got orders to put her down.   \n",
       "\n",
       "                                         translation  similarity  lenght_diff  \\\n",
       "0  if Alkar floods her with her mental waste, it ...    0.785171     0.010309   \n",
       "1                        you're becoming disgusting.    0.749687     0.071429   \n",
       "2                      well, we can spare your life.    0.919051     0.268293   \n",
       "3                       monkey, you have to wake up.    0.664333     0.309524   \n",
       "4                         I have orders to kill her.    0.726639     0.181818   \n",
       "\n",
       "    ref_tox   trn_tox  \n",
       "0  0.014195  0.981983  \n",
       "1  0.065473  0.999039  \n",
       "2  0.213313  0.985068  \n",
       "3  0.053362  0.994215  \n",
       "4  0.009402  0.999348  "
      ]
     },
     "execution_count": 4,
     "metadata": {},
     "output_type": "execute_result"
    }
   ],
   "source": [
    "df = pd.read_csv(\"../data/raw/filtered_paranmt/filtered.tsv\", sep=\"\\t\", index_col=0)\n",
    "df.head()"
   ]
  },
  {
   "cell_type": "code",
   "execution_count": 5,
   "metadata": {},
   "outputs": [
    {
     "data": {
      "text/html": [
       "<div>\n",
       "<style scoped>\n",
       "    .dataframe tbody tr th:only-of-type {\n",
       "        vertical-align: middle;\n",
       "    }\n",
       "\n",
       "    .dataframe tbody tr th {\n",
       "        vertical-align: top;\n",
       "    }\n",
       "\n",
       "    .dataframe thead th {\n",
       "        text-align: right;\n",
       "    }\n",
       "</style>\n",
       "<table border=\"1\" class=\"dataframe\">\n",
       "  <thead>\n",
       "    <tr style=\"text-align: right;\">\n",
       "      <th></th>\n",
       "      <th>reference</th>\n",
       "      <th>translation</th>\n",
       "      <th>similarity</th>\n",
       "      <th>lenght_diff</th>\n",
       "      <th>ref_tox</th>\n",
       "      <th>trn_tox</th>\n",
       "      <th>t1</th>\n",
       "      <th>t2</th>\n",
       "    </tr>\n",
       "  </thead>\n",
       "  <tbody>\n",
       "    <tr>\n",
       "      <th>64269</th>\n",
       "      <td>listen, you piece of shit, we're not gonna sav...</td>\n",
       "      <td>Listen, Skirt Girl, we are not going to save him.</td>\n",
       "      <td>0.716258</td>\n",
       "      <td>0.056604</td>\n",
       "      <td>0.000494</td>\n",
       "      <td>0.999695</td>\n",
       "      <td>listen you piece of shit we re not gonna save him</td>\n",
       "      <td>listen skirt girl we are not going to save him</td>\n",
       "    </tr>\n",
       "    <tr>\n",
       "      <th>333171</th>\n",
       "      <td>I played once and then I gave up and then I we...</td>\n",
       "      <td>I once played, then I gave it up, then I came ...</td>\n",
       "      <td>0.879894</td>\n",
       "      <td>0.044444</td>\n",
       "      <td>0.992827</td>\n",
       "      <td>0.000048</td>\n",
       "      <td>i played once and then i gave up and then i we...</td>\n",
       "      <td>i once played then i gave it up then i came ba...</td>\n",
       "    </tr>\n",
       "    <tr>\n",
       "      <th>149555</th>\n",
       "      <td>shit!</td>\n",
       "      <td>Bummer!</td>\n",
       "      <td>0.734375</td>\n",
       "      <td>0.250000</td>\n",
       "      <td>0.000441</td>\n",
       "      <td>0.999629</td>\n",
       "      <td>shit</td>\n",
       "      <td>bummer</td>\n",
       "    </tr>\n",
       "    <tr>\n",
       "      <th>98834</th>\n",
       "      <td>Hurry up with that damned stretcher.</td>\n",
       "      <td>hurry up with these stretchers!</td>\n",
       "      <td>0.725627</td>\n",
       "      <td>0.135135</td>\n",
       "      <td>0.999486</td>\n",
       "      <td>0.000212</td>\n",
       "      <td>hurry up with that damned stretcher</td>\n",
       "      <td>hurry up with these stretchers</td>\n",
       "    </tr>\n",
       "    <tr>\n",
       "      <th>313145</th>\n",
       "      <td>if you're really serious about her, pick up yo...</td>\n",
       "      <td>If by any chance, you are seriously about her ...</td>\n",
       "      <td>0.626647</td>\n",
       "      <td>0.122951</td>\n",
       "      <td>0.000774</td>\n",
       "      <td>0.999066</td>\n",
       "      <td>if you re really serious about her pick up you...</td>\n",
       "      <td>if by any chance you are seriously about her t...</td>\n",
       "    </tr>\n",
       "  </tbody>\n",
       "</table>\n",
       "</div>"
      ],
      "text/plain": [
       "                                                reference  \\\n",
       "64269   listen, you piece of shit, we're not gonna sav...   \n",
       "333171  I played once and then I gave up and then I we...   \n",
       "149555                                              shit!   \n",
       "98834                Hurry up with that damned stretcher.   \n",
       "313145  if you're really serious about her, pick up yo...   \n",
       "\n",
       "                                              translation  similarity  \\\n",
       "64269   Listen, Skirt Girl, we are not going to save him.    0.716258   \n",
       "333171  I once played, then I gave it up, then I came ...    0.879894   \n",
       "149555                                            Bummer!    0.734375   \n",
       "98834                     hurry up with these stretchers!    0.725627   \n",
       "313145  If by any chance, you are seriously about her ...    0.626647   \n",
       "\n",
       "        lenght_diff   ref_tox   trn_tox  \\\n",
       "64269      0.056604  0.000494  0.999695   \n",
       "333171     0.044444  0.992827  0.000048   \n",
       "149555     0.250000  0.000441  0.999629   \n",
       "98834      0.135135  0.999486  0.000212   \n",
       "313145     0.122951  0.000774  0.999066   \n",
       "\n",
       "                                                       t1  \\\n",
       "64269   listen you piece of shit we re not gonna save him   \n",
       "333171  i played once and then i gave up and then i we...   \n",
       "149555                                               shit   \n",
       "98834                 hurry up with that damned stretcher   \n",
       "313145  if you re really serious about her pick up you...   \n",
       "\n",
       "                                                       t2  \n",
       "64269      listen skirt girl we are not going to save him  \n",
       "333171  i once played then i gave it up then i came ba...  \n",
       "149555                                             bummer  \n",
       "98834                      hurry up with these stretchers  \n",
       "313145  if by any chance you are seriously about her t...  "
      ]
     },
     "execution_count": 5,
     "metadata": {},
     "output_type": "execute_result"
    }
   ],
   "source": [
    "df = preprocess.dataframe_preprocess(df, semantic=False, df_max_len=5000)\n",
    "df.head()"
   ]
  },
  {
   "cell_type": "code",
   "execution_count": 6,
   "metadata": {},
   "outputs": [
    {
     "data": {
      "text/plain": [
       "5000"
      ]
     },
     "execution_count": 6,
     "metadata": {},
     "output_type": "execute_result"
    }
   ],
   "source": [
    "len(df)"
   ]
  },
  {
   "cell_type": "code",
   "execution_count": 7,
   "metadata": {},
   "outputs": [
    {
     "name": "stderr",
     "output_type": "stream",
     "text": [
      "100%|██████████| 5000/5000 [01:41<00:00, 49.12it/s]\n"
     ]
    },
    {
     "data": {
      "text/html": [
       "<div>\n",
       "<style scoped>\n",
       "    .dataframe tbody tr th:only-of-type {\n",
       "        vertical-align: middle;\n",
       "    }\n",
       "\n",
       "    .dataframe tbody tr th {\n",
       "        vertical-align: top;\n",
       "    }\n",
       "\n",
       "    .dataframe thead th {\n",
       "        text-align: right;\n",
       "    }\n",
       "</style>\n",
       "<table border=\"1\" class=\"dataframe\">\n",
       "  <thead>\n",
       "    <tr style=\"text-align: right;\">\n",
       "      <th></th>\n",
       "      <th>reference</th>\n",
       "      <th>translation</th>\n",
       "      <th>similarity</th>\n",
       "      <th>lenght_diff</th>\n",
       "      <th>ref_tox</th>\n",
       "      <th>trn_tox</th>\n",
       "      <th>t1</th>\n",
       "      <th>t2</th>\n",
       "      <th>baseline_pred</th>\n",
       "    </tr>\n",
       "  </thead>\n",
       "  <tbody>\n",
       "    <tr>\n",
       "      <th>64269</th>\n",
       "      <td>listen, you piece of shit, we're not gonna sav...</td>\n",
       "      <td>Listen, Skirt Girl, we are not going to save him.</td>\n",
       "      <td>0.716258</td>\n",
       "      <td>0.056604</td>\n",
       "      <td>0.000494</td>\n",
       "      <td>0.999695</td>\n",
       "      <td>listen you piece of shit we re not gonna save him</td>\n",
       "      <td>listen skirt girl we are not going to save him</td>\n",
       "      <td>listen, you piece of give away, we're not gonn...</td>\n",
       "    </tr>\n",
       "    <tr>\n",
       "      <th>333171</th>\n",
       "      <td>I played once and then I gave up and then I we...</td>\n",
       "      <td>I once played, then I gave it up, then I came ...</td>\n",
       "      <td>0.879894</td>\n",
       "      <td>0.044444</td>\n",
       "      <td>0.992827</td>\n",
       "      <td>0.000048</td>\n",
       "      <td>i played once and then i gave up and then i we...</td>\n",
       "      <td>i once played then i gave it up then i came ba...</td>\n",
       "      <td>I played once and then I gave up and then I we...</td>\n",
       "    </tr>\n",
       "    <tr>\n",
       "      <th>149555</th>\n",
       "      <td>shit!</td>\n",
       "      <td>Bummer!</td>\n",
       "      <td>0.734375</td>\n",
       "      <td>0.250000</td>\n",
       "      <td>0.000441</td>\n",
       "      <td>0.999629</td>\n",
       "      <td>shit</td>\n",
       "      <td>bummer</td>\n",
       "      <td>give away!</td>\n",
       "    </tr>\n",
       "    <tr>\n",
       "      <th>98834</th>\n",
       "      <td>Hurry up with that damned stretcher.</td>\n",
       "      <td>hurry up with these stretchers!</td>\n",
       "      <td>0.725627</td>\n",
       "      <td>0.135135</td>\n",
       "      <td>0.999486</td>\n",
       "      <td>0.000212</td>\n",
       "      <td>hurry up with that damned stretcher</td>\n",
       "      <td>hurry up with these stretchers</td>\n",
       "      <td>Hurry up with that damned stretcher.</td>\n",
       "    </tr>\n",
       "    <tr>\n",
       "      <th>313145</th>\n",
       "      <td>if you're really serious about her, pick up yo...</td>\n",
       "      <td>If by any chance, you are seriously about her ...</td>\n",
       "      <td>0.626647</td>\n",
       "      <td>0.122951</td>\n",
       "      <td>0.000774</td>\n",
       "      <td>0.999066</td>\n",
       "      <td>if you re really serious about her pick up you...</td>\n",
       "      <td>if by any chance you are seriously about her t...</td>\n",
       "      <td>if you're really serious about her, pick up yo...</td>\n",
       "    </tr>\n",
       "  </tbody>\n",
       "</table>\n",
       "</div>"
      ],
      "text/plain": [
       "                                                reference  \\\n",
       "64269   listen, you piece of shit, we're not gonna sav...   \n",
       "333171  I played once and then I gave up and then I we...   \n",
       "149555                                              shit!   \n",
       "98834                Hurry up with that damned stretcher.   \n",
       "313145  if you're really serious about her, pick up yo...   \n",
       "\n",
       "                                              translation  similarity  \\\n",
       "64269   Listen, Skirt Girl, we are not going to save him.    0.716258   \n",
       "333171  I once played, then I gave it up, then I came ...    0.879894   \n",
       "149555                                            Bummer!    0.734375   \n",
       "98834                     hurry up with these stretchers!    0.725627   \n",
       "313145  If by any chance, you are seriously about her ...    0.626647   \n",
       "\n",
       "        lenght_diff   ref_tox   trn_tox  \\\n",
       "64269      0.056604  0.000494  0.999695   \n",
       "333171     0.044444  0.992827  0.000048   \n",
       "149555     0.250000  0.000441  0.999629   \n",
       "98834      0.135135  0.999486  0.000212   \n",
       "313145     0.122951  0.000774  0.999066   \n",
       "\n",
       "                                                       t1  \\\n",
       "64269   listen you piece of shit we re not gonna save him   \n",
       "333171  i played once and then i gave up and then i we...   \n",
       "149555                                               shit   \n",
       "98834                 hurry up with that damned stretcher   \n",
       "313145  if you re really serious about her pick up you...   \n",
       "\n",
       "                                                       t2  \\\n",
       "64269      listen skirt girl we are not going to save him   \n",
       "333171  i once played then i gave it up then i came ba...   \n",
       "149555                                             bummer   \n",
       "98834                      hurry up with these stretchers   \n",
       "313145  if by any chance you are seriously about her t...   \n",
       "\n",
       "                                            baseline_pred  \n",
       "64269   listen, you piece of give away, we're not gonn...  \n",
       "333171  I played once and then I gave up and then I we...  \n",
       "149555                                         give away!  \n",
       "98834                Hurry up with that damned stretcher.  \n",
       "313145  if you're really serious about her, pick up yo...  "
      ]
     },
     "execution_count": 7,
     "metadata": {},
     "output_type": "execute_result"
    }
   ],
   "source": [
    "new_df = baseline.predict(df)\n",
    "new_df.head()"
   ]
  },
  {
   "cell_type": "code",
   "execution_count": 8,
   "metadata": {},
   "outputs": [
    {
     "data": {
      "text/plain": [
       "0.8787419089273848"
      ]
     },
     "execution_count": 8,
     "metadata": {},
     "output_type": "execute_result"
    }
   ],
   "source": [
    "metrics.blue_score(new_df[\"reference\"].tolist(), new_df[\"baseline_pred\"].tolist())"
   ]
  },
  {
   "cell_type": "code",
   "execution_count": 9,
   "metadata": {},
   "outputs": [
    {
     "data": {
      "text/plain": [
       "0.999958905235473"
      ]
     },
     "execution_count": 9,
     "metadata": {},
     "output_type": "execute_result"
    }
   ],
   "source": [
    "metrics.meteor_score(new_df[\"reference\"].tolist(), new_df[\"baseline_pred\"].tolist())"
   ]
  },
  {
   "cell_type": "code",
   "execution_count": 10,
   "metadata": {},
   "outputs": [],
   "source": [
    "# metrics.toxicity_score(new_df[\"baseline_pred\"].tolist())"
   ]
  },
  {
   "cell_type": "code",
   "execution_count": 11,
   "metadata": {},
   "outputs": [
    {
     "data": {
      "text/plain": [
       "0.993903398513794"
      ]
     },
     "execution_count": 11,
     "metadata": {},
     "output_type": "execute_result"
    }
   ],
   "source": [
    "metrics.cosine_similarity_score(\n",
    "    new_df[\"reference\"].tolist(), new_df[\"baseline_pred\"].tolist()\n",
    ")"
   ]
  },
  {
   "cell_type": "markdown",
   "metadata": {},
   "source": [
    "It is pretty slow, we can generate all the predictions in advance and evaluate metrics on some other hardware in the future.\n"
   ]
  },
  {
   "cell_type": "code",
   "execution_count": null,
   "metadata": {},
   "outputs": [],
   "source": []
  }
 ],
 "metadata": {
  "kernelspec": {
   "display_name": "PMLDLA1",
   "language": "python",
   "name": "python3"
  },
  "language_info": {
   "codemirror_mode": {
    "name": "ipython",
    "version": 3
   },
   "file_extension": ".py",
   "mimetype": "text/x-python",
   "name": "python",
   "nbconvert_exporter": "python",
   "pygments_lexer": "ipython3",
   "version": "3.9.18"
  }
 },
 "nbformat": 4,
 "nbformat_minor": 2
}
