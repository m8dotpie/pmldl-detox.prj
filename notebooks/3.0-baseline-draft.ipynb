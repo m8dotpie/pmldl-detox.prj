{
 "cells": [
  {
   "cell_type": "code",
   "execution_count": 9,
   "metadata": {},
   "outputs": [],
   "source": [
    "from dotenv import find_dotenv\n",
    "import os\n",
    "import sys\n",
    "\n",
    "sys.path.append(os.path.dirname(find_dotenv()))"
   ]
  },
  {
   "cell_type": "code",
   "execution_count": 7,
   "metadata": {},
   "outputs": [],
   "source": [
    "import pandas as pd\n",
    "from nltk.corpus import wordnet\n",
    "import nltk\n",
    "import re\n",
    "\n",
    "nltk.download(\"wordnet\", quiet=True)"
   ]
  },
  {
   "cell_type": "code",
   "execution_count": 2,
   "metadata": {},
   "outputs": [],
   "source": [
    "def get_nontoxic_synonym(word, blacklist):\n",
    "    synonyms = set()\n",
    "    for syn in wordnet.synsets(word):\n",
    "        for lemma in syn.lemmas():\n",
    "            # Check against blacklist\n",
    "            if lemma.name().lower() not in blacklist:\n",
    "                synonyms.add(lemma.name())\n",
    "\n",
    "    return list(synonyms)[0] if synonyms else None"
   ]
  },
  {
   "cell_type": "code",
   "execution_count": 3,
   "metadata": {},
   "outputs": [
    {
     "data": {
      "text/html": [
       "<div>\n",
       "<style scoped>\n",
       "    .dataframe tbody tr th:only-of-type {\n",
       "        vertical-align: middle;\n",
       "    }\n",
       "\n",
       "    .dataframe tbody tr th {\n",
       "        vertical-align: top;\n",
       "    }\n",
       "\n",
       "    .dataframe thead th {\n",
       "        text-align: right;\n",
       "    }\n",
       "</style>\n",
       "<table border=\"1\" class=\"dataframe\">\n",
       "  <thead>\n",
       "    <tr style=\"text-align: right;\">\n",
       "      <th></th>\n",
       "      <th>tox</th>\n",
       "    </tr>\n",
       "  </thead>\n",
       "  <tbody>\n",
       "    <tr>\n",
       "      <th>0</th>\n",
       "      <td>jigaboo</td>\n",
       "    </tr>\n",
       "    <tr>\n",
       "      <th>1</th>\n",
       "      <td>mound of venus</td>\n",
       "    </tr>\n",
       "    <tr>\n",
       "      <th>2</th>\n",
       "      <td>asslover</td>\n",
       "    </tr>\n",
       "    <tr>\n",
       "      <th>3</th>\n",
       "      <td>s&amp;m</td>\n",
       "    </tr>\n",
       "    <tr>\n",
       "      <th>4</th>\n",
       "      <td>queaf</td>\n",
       "    </tr>\n",
       "  </tbody>\n",
       "</table>\n",
       "</div>"
      ],
      "text/plain": [
       "              tox\n",
       "0         jigaboo\n",
       "1  mound of venus\n",
       "2        asslover\n",
       "3             s&m\n",
       "4           queaf"
      ]
     },
     "execution_count": 3,
     "metadata": {},
     "output_type": "execute_result"
    }
   ],
   "source": [
    "df = pd.read_csv(\"../data/external/bad-words.csv\", header=None, names=[\"tox\"])\n",
    "df.head()"
   ]
  },
  {
   "cell_type": "code",
   "execution_count": 4,
   "metadata": {},
   "outputs": [],
   "source": [
    "# Using the first column as a blacklist\n",
    "blacklist = set(df[\"tox\"].str.lower())\n",
    "\n",
    "# Apply the function to get non-toxic synonyms\n",
    "df[\"ntox\"] = df[\"tox\"].apply(lambda x: get_nontoxic_synonym(x, blacklist))\n",
    "df = df.dropna()  # some of the results are None, so drop them"
   ]
  },
  {
   "cell_type": "code",
   "execution_count": 5,
   "metadata": {},
   "outputs": [
    {
     "data": {
      "text/html": [
       "<div>\n",
       "<style scoped>\n",
       "    .dataframe tbody tr th:only-of-type {\n",
       "        vertical-align: middle;\n",
       "    }\n",
       "\n",
       "    .dataframe tbody tr th {\n",
       "        vertical-align: top;\n",
       "    }\n",
       "\n",
       "    .dataframe thead th {\n",
       "        text-align: right;\n",
       "    }\n",
       "</style>\n",
       "<table border=\"1\" class=\"dataframe\">\n",
       "  <thead>\n",
       "    <tr style=\"text-align: right;\">\n",
       "      <th></th>\n",
       "      <th>tox</th>\n",
       "      <th>ntox</th>\n",
       "    </tr>\n",
       "  </thead>\n",
       "  <tbody>\n",
       "    <tr>\n",
       "      <th>0</th>\n",
       "      <td>jigaboo</td>\n",
       "      <td>spade</td>\n",
       "    </tr>\n",
       "    <tr>\n",
       "      <th>8</th>\n",
       "      <td>pimp</td>\n",
       "      <td>panderer</td>\n",
       "    </tr>\n",
       "    <tr>\n",
       "      <th>9</th>\n",
       "      <td>urine</td>\n",
       "      <td>piddle</td>\n",
       "    </tr>\n",
       "    <tr>\n",
       "      <th>10</th>\n",
       "      <td>whit</td>\n",
       "      <td>shred</td>\n",
       "    </tr>\n",
       "    <tr>\n",
       "      <th>11</th>\n",
       "      <td>randy</td>\n",
       "      <td>turned_on</td>\n",
       "    </tr>\n",
       "    <tr>\n",
       "      <th>...</th>\n",
       "      <td>...</td>\n",
       "      <td>...</td>\n",
       "    </tr>\n",
       "    <tr>\n",
       "      <th>1597</th>\n",
       "      <td>hiv</td>\n",
       "      <td>human_immunodeficiency_virus</td>\n",
       "    </tr>\n",
       "    <tr>\n",
       "      <th>1599</th>\n",
       "      <td>mad</td>\n",
       "      <td>unhinged</td>\n",
       "    </tr>\n",
       "    <tr>\n",
       "      <th>1600</th>\n",
       "      <td>sniggers</td>\n",
       "      <td>snicker</td>\n",
       "    </tr>\n",
       "    <tr>\n",
       "      <th>1602</th>\n",
       "      <td>testicle</td>\n",
       "      <td>ball</td>\n",
       "    </tr>\n",
       "    <tr>\n",
       "      <th>1615</th>\n",
       "      <td>bestiality</td>\n",
       "      <td>zooerastia</td>\n",
       "    </tr>\n",
       "  </tbody>\n",
       "</table>\n",
       "<p>583 rows × 2 columns</p>\n",
       "</div>"
      ],
      "text/plain": [
       "             tox                          ntox\n",
       "0        jigaboo                         spade\n",
       "8           pimp                      panderer\n",
       "9          urine                        piddle\n",
       "10          whit                         shred\n",
       "11         randy                     turned_on\n",
       "...          ...                           ...\n",
       "1597         hiv  human_immunodeficiency_virus\n",
       "1599         mad                      unhinged\n",
       "1600    sniggers                       snicker\n",
       "1602    testicle                          ball\n",
       "1615  bestiality                    zooerastia\n",
       "\n",
       "[583 rows x 2 columns]"
      ]
     },
     "execution_count": 5,
     "metadata": {},
     "output_type": "execute_result"
    }
   ],
   "source": [
    "df"
   ]
  },
  {
   "cell_type": "markdown",
   "metadata": {},
   "source": [
    "# Baseline correction\n"
   ]
  },
  {
   "cell_type": "code",
   "execution_count": null,
   "metadata": {},
   "outputs": [],
   "source": [
    "# Load the datasets\n",
    "toxic_sentences_df = pd.read_csv(\"toxic_sentences.csv\")\n",
    "synonyms_df = pd.read_csv(\"synonyms.csv\")\n",
    "\n",
    "# Create a replacement dictionary\n",
    "replacement_dict = dict(zip(synonyms_df[\"toxic_word\"], synonyms_df[\"non_toxic\"]))\n",
    "\n",
    "\n",
    "# Function to replace toxic words in a sentence\n",
    "def replace_toxic_words(sentence):\n",
    "    for toxic, non_toxic in replacement_dict.items():\n",
    "        # \\b specifies word boundaries in regex, ensuring we're replacing whole words, not substrings\n",
    "        sentence = re.sub(r\"\\b\" + re.escape(toxic) + r\"\\b\", non_toxic, sentence)\n",
    "    return sentence\n",
    "\n",
    "\n",
    "# Apply the function to the sentences\n",
    "toxic_sentences_df[\"cleaned_sentence\"] = toxic_sentences_df[\"sentence\"].apply(\n",
    "    replace_toxic_words\n",
    ")\n",
    "\n",
    "# Check the results\n",
    "print(toxic_sentences_df.head())"
   ]
  }
 ],
 "metadata": {
  "kernelspec": {
   "display_name": "base",
   "language": "python",
   "name": "python3"
  },
  "language_info": {
   "codemirror_mode": {
    "name": "ipython",
    "version": 3
   },
   "file_extension": ".py",
   "mimetype": "text/x-python",
   "name": "python",
   "nbconvert_exporter": "python",
   "pygments_lexer": "ipython3",
   "version": "3.9.18"
  }
 },
 "nbformat": 4,
 "nbformat_minor": 2
}
